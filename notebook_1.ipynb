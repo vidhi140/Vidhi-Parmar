{
  "cells": [
    {
      "cell_type": "markdown",
      "metadata": {
        "id": "view-in-github",
        "colab_type": "text"
      },
      "source": [
        "<a href=\"https://colab.research.google.com/github/vidhi140/Vidhi-Parmar/blob/main/notebook_1.ipynb\" target=\"_parent\"><img src=\"https://colab.research.google.com/assets/colab-badge.svg\" alt=\"Open In Colab\"/></a>"
      ]
    },
    {
      "cell_type": "code",
      "execution_count": null,
      "id": "4e311fd8-65af-4383-aac3-b8118c09fbae",
      "metadata": {
        "id": "4e311fd8-65af-4383-aac3-b8118c09fbae",
        "outputId": "5d513063-74d4-4a3b-a3dd-6d18bc5c3392"
      },
      "outputs": [
        {
          "name": "stdout",
          "output_type": "stream",
          "text": [
            "Requirement already satisfied: pandas in c:\\users\\hetwani\\anaconda3\\lib\\site-packages (2.2.2)Note: you may need to restart the kernel to use updated packages.\n",
            "\n",
            "Requirement already satisfied: matplotlib in c:\\users\\hetwani\\anaconda3\\lib\\site-packages (3.9.2)\n",
            "Requirement already satisfied: scipy in c:\\users\\hetwani\\anaconda3\\lib\\site-packages (1.13.1)\n",
            "Requirement already satisfied: numpy>=1.26.0 in c:\\users\\hetwani\\anaconda3\\lib\\site-packages (from pandas) (1.26.4)\n",
            "Requirement already satisfied: python-dateutil>=2.8.2 in c:\\users\\hetwani\\anaconda3\\lib\\site-packages (from pandas) (2.9.0.post0)\n",
            "Requirement already satisfied: pytz>=2020.1 in c:\\users\\hetwani\\anaconda3\\lib\\site-packages (from pandas) (2024.1)\n",
            "Requirement already satisfied: tzdata>=2022.7 in c:\\users\\hetwani\\anaconda3\\lib\\site-packages (from pandas) (2023.3)\n",
            "Requirement already satisfied: contourpy>=1.0.1 in c:\\users\\hetwani\\anaconda3\\lib\\site-packages (from matplotlib) (1.2.0)\n",
            "Requirement already satisfied: cycler>=0.10 in c:\\users\\hetwani\\anaconda3\\lib\\site-packages (from matplotlib) (0.11.0)\n",
            "Requirement already satisfied: fonttools>=4.22.0 in c:\\users\\hetwani\\anaconda3\\lib\\site-packages (from matplotlib) (4.51.0)\n",
            "Requirement already satisfied: kiwisolver>=1.3.1 in c:\\users\\hetwani\\anaconda3\\lib\\site-packages (from matplotlib) (1.4.4)\n",
            "Requirement already satisfied: packaging>=20.0 in c:\\users\\hetwani\\anaconda3\\lib\\site-packages (from matplotlib) (24.1)\n",
            "Requirement already satisfied: pillow>=8 in c:\\users\\hetwani\\anaconda3\\lib\\site-packages (from matplotlib) (10.4.0)\n",
            "Requirement already satisfied: pyparsing>=2.3.1 in c:\\users\\hetwani\\anaconda3\\lib\\site-packages (from matplotlib) (3.1.2)\n",
            "Requirement already satisfied: six>=1.5 in c:\\users\\hetwani\\anaconda3\\lib\\site-packages (from python-dateutil>=2.8.2->pandas) (1.16.0)\n"
          ]
        }
      ],
      "source": [
        "pip install pandas matplotlib scipy"
      ]
    },
    {
      "cell_type": "code",
      "source": [
        "from google.colab import files\n",
        "\n",
        "# Upload CSV files manually\n",
        "uploaded = files.upload()   # choose historical_data.csv and fear_greed_index.csv\n",
        "\n",
        "# check uploaded\n",
        "import pandas as pd\n",
        "trades = pd.read_csv(\"historical_data.csv\")\n",
        "sent = pd.read_csv(\"fear_greed_index.csv\")\n"
      ],
      "metadata": {
        "colab": {
          "base_uri": "https://localhost:8080/",
          "height": 107
        },
        "id": "2trnoQGBmPCw",
        "outputId": "8c000555-5c37-47a0-8bbc-37d8ff0ed3dc"
      },
      "id": "2trnoQGBmPCw",
      "execution_count": 20,
      "outputs": [
        {
          "output_type": "display_data",
          "data": {
            "text/plain": [
              "<IPython.core.display.HTML object>"
            ],
            "text/html": [
              "\n",
              "     <input type=\"file\" id=\"files-e1582194-378e-426e-8485-071489593277\" name=\"files[]\" multiple disabled\n",
              "        style=\"border:none\" />\n",
              "     <output id=\"result-e1582194-378e-426e-8485-071489593277\">\n",
              "      Upload widget is only available when the cell has been executed in the\n",
              "      current browser session. Please rerun this cell to enable.\n",
              "      </output>\n",
              "      <script>// Copyright 2017 Google LLC\n",
              "//\n",
              "// Licensed under the Apache License, Version 2.0 (the \"License\");\n",
              "// you may not use this file except in compliance with the License.\n",
              "// You may obtain a copy of the License at\n",
              "//\n",
              "//      http://www.apache.org/licenses/LICENSE-2.0\n",
              "//\n",
              "// Unless required by applicable law or agreed to in writing, software\n",
              "// distributed under the License is distributed on an \"AS IS\" BASIS,\n",
              "// WITHOUT WARRANTIES OR CONDITIONS OF ANY KIND, either express or implied.\n",
              "// See the License for the specific language governing permissions and\n",
              "// limitations under the License.\n",
              "\n",
              "/**\n",
              " * @fileoverview Helpers for google.colab Python module.\n",
              " */\n",
              "(function(scope) {\n",
              "function span(text, styleAttributes = {}) {\n",
              "  const element = document.createElement('span');\n",
              "  element.textContent = text;\n",
              "  for (const key of Object.keys(styleAttributes)) {\n",
              "    element.style[key] = styleAttributes[key];\n",
              "  }\n",
              "  return element;\n",
              "}\n",
              "\n",
              "// Max number of bytes which will be uploaded at a time.\n",
              "const MAX_PAYLOAD_SIZE = 100 * 1024;\n",
              "\n",
              "function _uploadFiles(inputId, outputId) {\n",
              "  const steps = uploadFilesStep(inputId, outputId);\n",
              "  const outputElement = document.getElementById(outputId);\n",
              "  // Cache steps on the outputElement to make it available for the next call\n",
              "  // to uploadFilesContinue from Python.\n",
              "  outputElement.steps = steps;\n",
              "\n",
              "  return _uploadFilesContinue(outputId);\n",
              "}\n",
              "\n",
              "// This is roughly an async generator (not supported in the browser yet),\n",
              "// where there are multiple asynchronous steps and the Python side is going\n",
              "// to poll for completion of each step.\n",
              "// This uses a Promise to block the python side on completion of each step,\n",
              "// then passes the result of the previous step as the input to the next step.\n",
              "function _uploadFilesContinue(outputId) {\n",
              "  const outputElement = document.getElementById(outputId);\n",
              "  const steps = outputElement.steps;\n",
              "\n",
              "  const next = steps.next(outputElement.lastPromiseValue);\n",
              "  return Promise.resolve(next.value.promise).then((value) => {\n",
              "    // Cache the last promise value to make it available to the next\n",
              "    // step of the generator.\n",
              "    outputElement.lastPromiseValue = value;\n",
              "    return next.value.response;\n",
              "  });\n",
              "}\n",
              "\n",
              "/**\n",
              " * Generator function which is called between each async step of the upload\n",
              " * process.\n",
              " * @param {string} inputId Element ID of the input file picker element.\n",
              " * @param {string} outputId Element ID of the output display.\n",
              " * @return {!Iterable<!Object>} Iterable of next steps.\n",
              " */\n",
              "function* uploadFilesStep(inputId, outputId) {\n",
              "  const inputElement = document.getElementById(inputId);\n",
              "  inputElement.disabled = false;\n",
              "\n",
              "  const outputElement = document.getElementById(outputId);\n",
              "  outputElement.innerHTML = '';\n",
              "\n",
              "  const pickedPromise = new Promise((resolve) => {\n",
              "    inputElement.addEventListener('change', (e) => {\n",
              "      resolve(e.target.files);\n",
              "    });\n",
              "  });\n",
              "\n",
              "  const cancel = document.createElement('button');\n",
              "  inputElement.parentElement.appendChild(cancel);\n",
              "  cancel.textContent = 'Cancel upload';\n",
              "  const cancelPromise = new Promise((resolve) => {\n",
              "    cancel.onclick = () => {\n",
              "      resolve(null);\n",
              "    };\n",
              "  });\n",
              "\n",
              "  // Wait for the user to pick the files.\n",
              "  const files = yield {\n",
              "    promise: Promise.race([pickedPromise, cancelPromise]),\n",
              "    response: {\n",
              "      action: 'starting',\n",
              "    }\n",
              "  };\n",
              "\n",
              "  cancel.remove();\n",
              "\n",
              "  // Disable the input element since further picks are not allowed.\n",
              "  inputElement.disabled = true;\n",
              "\n",
              "  if (!files) {\n",
              "    return {\n",
              "      response: {\n",
              "        action: 'complete',\n",
              "      }\n",
              "    };\n",
              "  }\n",
              "\n",
              "  for (const file of files) {\n",
              "    const li = document.createElement('li');\n",
              "    li.append(span(file.name, {fontWeight: 'bold'}));\n",
              "    li.append(span(\n",
              "        `(${file.type || 'n/a'}) - ${file.size} bytes, ` +\n",
              "        `last modified: ${\n",
              "            file.lastModifiedDate ? file.lastModifiedDate.toLocaleDateString() :\n",
              "                                    'n/a'} - `));\n",
              "    const percent = span('0% done');\n",
              "    li.appendChild(percent);\n",
              "\n",
              "    outputElement.appendChild(li);\n",
              "\n",
              "    const fileDataPromise = new Promise((resolve) => {\n",
              "      const reader = new FileReader();\n",
              "      reader.onload = (e) => {\n",
              "        resolve(e.target.result);\n",
              "      };\n",
              "      reader.readAsArrayBuffer(file);\n",
              "    });\n",
              "    // Wait for the data to be ready.\n",
              "    let fileData = yield {\n",
              "      promise: fileDataPromise,\n",
              "      response: {\n",
              "        action: 'continue',\n",
              "      }\n",
              "    };\n",
              "\n",
              "    // Use a chunked sending to avoid message size limits. See b/62115660.\n",
              "    let position = 0;\n",
              "    do {\n",
              "      const length = Math.min(fileData.byteLength - position, MAX_PAYLOAD_SIZE);\n",
              "      const chunk = new Uint8Array(fileData, position, length);\n",
              "      position += length;\n",
              "\n",
              "      const base64 = btoa(String.fromCharCode.apply(null, chunk));\n",
              "      yield {\n",
              "        response: {\n",
              "          action: 'append',\n",
              "          file: file.name,\n",
              "          data: base64,\n",
              "        },\n",
              "      };\n",
              "\n",
              "      let percentDone = fileData.byteLength === 0 ?\n",
              "          100 :\n",
              "          Math.round((position / fileData.byteLength) * 100);\n",
              "      percent.textContent = `${percentDone}% done`;\n",
              "\n",
              "    } while (position < fileData.byteLength);\n",
              "  }\n",
              "\n",
              "  // All done.\n",
              "  yield {\n",
              "    response: {\n",
              "      action: 'complete',\n",
              "    }\n",
              "  };\n",
              "}\n",
              "\n",
              "scope.google = scope.google || {};\n",
              "scope.google.colab = scope.google.colab || {};\n",
              "scope.google.colab._files = {\n",
              "  _uploadFiles,\n",
              "  _uploadFilesContinue,\n",
              "};\n",
              "})(self);\n",
              "</script> "
            ]
          },
          "metadata": {}
        },
        {
          "output_type": "stream",
          "name": "stdout",
          "text": [
            "Saving fear_greed_index.csv to fear_greed_index.csv\n",
            "Saving historical_data.csv to historical_data.csv\n"
          ]
        }
      ]
    },
    {
      "cell_type": "code",
      "source": [
        "import os\n",
        "\n",
        "candidate = \"Vidhi Parmar\"\n",
        "base = f\"/content/ds_{candidate}\"\n",
        "\n",
        "os.makedirs(f\"{base}/csv_files\", exist_ok=True)\n",
        "os.makedirs(f\"{base}/outputs\", exist_ok=True)\n",
        "\n",
        "print(\"Folders created under:\", base)\n"
      ],
      "metadata": {
        "colab": {
          "base_uri": "https://localhost:8080/"
        },
        "id": "J3W32etZm-9u",
        "outputId": "d5557f8f-e84a-4e18-8196-21d7fd7ea85d"
      },
      "id": "J3W32etZm-9u",
      "execution_count": 21,
      "outputs": [
        {
          "output_type": "stream",
          "name": "stdout",
          "text": [
            "Folders created under: /content/ds_Vidhi Parmar\n"
          ]
        }
      ]
    },
    {
      "cell_type": "code",
      "source": [
        "import shutil\n",
        "\n",
        "# move uploaded files into csv_files/\n",
        "shutil.move(\"historical_data.csv\", f\"{base}/csv_files/historical_data.csv\")\n",
        "shutil.move(\"fear_greed_index.csv\", f\"{base}/csv_files/fear_greed_index.csv\")\n"
      ],
      "metadata": {
        "colab": {
          "base_uri": "https://localhost:8080/",
          "height": 36
        },
        "id": "CfIkRuiUpB_O",
        "outputId": "f44c861d-74e7-4e7e-9c99-2642df015419"
      },
      "id": "CfIkRuiUpB_O",
      "execution_count": 22,
      "outputs": [
        {
          "output_type": "execute_result",
          "data": {
            "text/plain": [
              "'/content/ds_Vidhi Parmar/csv_files/fear_greed_index.csv'"
            ],
            "application/vnd.google.colaboratory.intrinsic+json": {
              "type": "string"
            }
          },
          "metadata": {},
          "execution_count": 22
        }
      ]
    },
    {
      "cell_type": "code",
      "execution_count": null,
      "id": "834f94c7-ce70-4173-b85c-de1890563081",
      "metadata": {
        "id": "834f94c7-ce70-4173-b85c-de1890563081",
        "outputId": "75e9a07b-643e-4c09-f021-e702eea41bda"
      },
      "outputs": [
        {
          "name": "stdout",
          "output_type": "stream",
          "text": [
            "rows, cols: (211224, 16)\n",
            "['Account', 'Coin', 'Execution Price', 'Size Tokens', 'Size USD', 'Side', 'Timestamp IST', 'Start Position', 'Direction', 'Closed PnL', 'Transaction Hash', 'Order ID', 'Crossed', 'Fee', 'Trade ID', 'Timestamp']\n"
          ]
        },
        {
          "data": {
            "text/html": [
              "<div>\n",
              "<style scoped>\n",
              "    .dataframe tbody tr th:only-of-type {\n",
              "        vertical-align: middle;\n",
              "    }\n",
              "\n",
              "    .dataframe tbody tr th {\n",
              "        vertical-align: top;\n",
              "    }\n",
              "\n",
              "    .dataframe thead th {\n",
              "        text-align: right;\n",
              "    }\n",
              "</style>\n",
              "<table border=\"1\" class=\"dataframe\">\n",
              "  <thead>\n",
              "    <tr style=\"text-align: right;\">\n",
              "      <th></th>\n",
              "      <th>Account</th>\n",
              "      <th>Coin</th>\n",
              "      <th>Execution Price</th>\n",
              "      <th>Size Tokens</th>\n",
              "      <th>Size USD</th>\n",
              "      <th>Side</th>\n",
              "      <th>Timestamp IST</th>\n",
              "      <th>Start Position</th>\n",
              "      <th>Direction</th>\n",
              "      <th>Closed PnL</th>\n",
              "      <th>Transaction Hash</th>\n",
              "      <th>Order ID</th>\n",
              "      <th>Crossed</th>\n",
              "      <th>Fee</th>\n",
              "      <th>Trade ID</th>\n",
              "      <th>Timestamp</th>\n",
              "    </tr>\n",
              "  </thead>\n",
              "  <tbody>\n",
              "    <tr>\n",
              "      <th>0</th>\n",
              "      <td>0xae5eacaf9c6b9111fd53034a602c192a04e082ed</td>\n",
              "      <td>@107</td>\n",
              "      <td>7.9769</td>\n",
              "      <td>986.87</td>\n",
              "      <td>7872.16</td>\n",
              "      <td>BUY</td>\n",
              "      <td>02-12-2024 22:50</td>\n",
              "      <td>0.000000</td>\n",
              "      <td>Buy</td>\n",
              "      <td>0.0</td>\n",
              "      <td>0xec09451986a1874e3a980418412fcd0201f500c95bac...</td>\n",
              "      <td>52017706630</td>\n",
              "      <td>True</td>\n",
              "      <td>0.345404</td>\n",
              "      <td>8.950000e+14</td>\n",
              "      <td>1.730000e+12</td>\n",
              "    </tr>\n",
              "    <tr>\n",
              "      <th>1</th>\n",
              "      <td>0xae5eacaf9c6b9111fd53034a602c192a04e082ed</td>\n",
              "      <td>@107</td>\n",
              "      <td>7.9800</td>\n",
              "      <td>16.00</td>\n",
              "      <td>127.68</td>\n",
              "      <td>BUY</td>\n",
              "      <td>02-12-2024 22:50</td>\n",
              "      <td>986.524596</td>\n",
              "      <td>Buy</td>\n",
              "      <td>0.0</td>\n",
              "      <td>0xec09451986a1874e3a980418412fcd0201f500c95bac...</td>\n",
              "      <td>52017706630</td>\n",
              "      <td>True</td>\n",
              "      <td>0.005600</td>\n",
              "      <td>4.430000e+14</td>\n",
              "      <td>1.730000e+12</td>\n",
              "    </tr>\n",
              "    <tr>\n",
              "      <th>2</th>\n",
              "      <td>0xae5eacaf9c6b9111fd53034a602c192a04e082ed</td>\n",
              "      <td>@107</td>\n",
              "      <td>7.9855</td>\n",
              "      <td>144.09</td>\n",
              "      <td>1150.63</td>\n",
              "      <td>BUY</td>\n",
              "      <td>02-12-2024 22:50</td>\n",
              "      <td>1002.518996</td>\n",
              "      <td>Buy</td>\n",
              "      <td>0.0</td>\n",
              "      <td>0xec09451986a1874e3a980418412fcd0201f500c95bac...</td>\n",
              "      <td>52017706630</td>\n",
              "      <td>True</td>\n",
              "      <td>0.050431</td>\n",
              "      <td>6.600000e+14</td>\n",
              "      <td>1.730000e+12</td>\n",
              "    </tr>\n",
              "    <tr>\n",
              "      <th>3</th>\n",
              "      <td>0xae5eacaf9c6b9111fd53034a602c192a04e082ed</td>\n",
              "      <td>@107</td>\n",
              "      <td>7.9874</td>\n",
              "      <td>142.98</td>\n",
              "      <td>1142.04</td>\n",
              "      <td>BUY</td>\n",
              "      <td>02-12-2024 22:50</td>\n",
              "      <td>1146.558564</td>\n",
              "      <td>Buy</td>\n",
              "      <td>0.0</td>\n",
              "      <td>0xec09451986a1874e3a980418412fcd0201f500c95bac...</td>\n",
              "      <td>52017706630</td>\n",
              "      <td>True</td>\n",
              "      <td>0.050043</td>\n",
              "      <td>1.080000e+15</td>\n",
              "      <td>1.730000e+12</td>\n",
              "    </tr>\n",
              "    <tr>\n",
              "      <th>4</th>\n",
              "      <td>0xae5eacaf9c6b9111fd53034a602c192a04e082ed</td>\n",
              "      <td>@107</td>\n",
              "      <td>7.9894</td>\n",
              "      <td>8.73</td>\n",
              "      <td>69.75</td>\n",
              "      <td>BUY</td>\n",
              "      <td>02-12-2024 22:50</td>\n",
              "      <td>1289.488521</td>\n",
              "      <td>Buy</td>\n",
              "      <td>0.0</td>\n",
              "      <td>0xec09451986a1874e3a980418412fcd0201f500c95bac...</td>\n",
              "      <td>52017706630</td>\n",
              "      <td>True</td>\n",
              "      <td>0.003055</td>\n",
              "      <td>1.050000e+15</td>\n",
              "      <td>1.730000e+12</td>\n",
              "    </tr>\n",
              "  </tbody>\n",
              "</table>\n",
              "</div>"
            ],
            "text/plain": [
              "                                      Account  Coin  Execution Price  \\\n",
              "0  0xae5eacaf9c6b9111fd53034a602c192a04e082ed  @107           7.9769   \n",
              "1  0xae5eacaf9c6b9111fd53034a602c192a04e082ed  @107           7.9800   \n",
              "2  0xae5eacaf9c6b9111fd53034a602c192a04e082ed  @107           7.9855   \n",
              "3  0xae5eacaf9c6b9111fd53034a602c192a04e082ed  @107           7.9874   \n",
              "4  0xae5eacaf9c6b9111fd53034a602c192a04e082ed  @107           7.9894   \n",
              "\n",
              "   Size Tokens  Size USD Side     Timestamp IST  Start Position Direction  \\\n",
              "0       986.87   7872.16  BUY  02-12-2024 22:50        0.000000       Buy   \n",
              "1        16.00    127.68  BUY  02-12-2024 22:50      986.524596       Buy   \n",
              "2       144.09   1150.63  BUY  02-12-2024 22:50     1002.518996       Buy   \n",
              "3       142.98   1142.04  BUY  02-12-2024 22:50     1146.558564       Buy   \n",
              "4         8.73     69.75  BUY  02-12-2024 22:50     1289.488521       Buy   \n",
              "\n",
              "   Closed PnL                                   Transaction Hash     Order ID  \\\n",
              "0         0.0  0xec09451986a1874e3a980418412fcd0201f500c95bac...  52017706630   \n",
              "1         0.0  0xec09451986a1874e3a980418412fcd0201f500c95bac...  52017706630   \n",
              "2         0.0  0xec09451986a1874e3a980418412fcd0201f500c95bac...  52017706630   \n",
              "3         0.0  0xec09451986a1874e3a980418412fcd0201f500c95bac...  52017706630   \n",
              "4         0.0  0xec09451986a1874e3a980418412fcd0201f500c95bac...  52017706630   \n",
              "\n",
              "   Crossed       Fee      Trade ID     Timestamp  \n",
              "0     True  0.345404  8.950000e+14  1.730000e+12  \n",
              "1     True  0.005600  4.430000e+14  1.730000e+12  \n",
              "2     True  0.050431  6.600000e+14  1.730000e+12  \n",
              "3     True  0.050043  1.080000e+15  1.730000e+12  \n",
              "4     True  0.003055  1.050000e+15  1.730000e+12  "
            ]
          },
          "execution_count": 29,
          "metadata": {},
          "output_type": "execute_result"
        }
      ],
      "source": [
        "# simple imports\n",
        "import pandas as pd\n",
        "import matplotlib.pyplot as plt\n",
        "from scipy import stats\n",
        "\n",
        "df = pd.read_csv('historical_data.csv')\n",
        "\n",
        "# quick look\n",
        "print(\"rows, cols:\", df.shape)\n",
        "print(df.columns.tolist())\n",
        "df.head()\n"
      ]
    },
    {
      "cell_type": "code",
      "execution_count": null,
      "id": "d61ad6e4-9bc2-4bdb-b26d-b1badb8658a3",
      "metadata": {
        "id": "d61ad6e4-9bc2-4bdb-b26d-b1badb8658a3",
        "outputId": "5c3149f8-9d75-4467-c872-247ce319215e"
      },
      "outputs": [
        {
          "name": "stdout",
          "output_type": "stream",
          "text": [
            "rows, cols: (2644, 4)\n",
            "['timestamp', 'value', 'classification', 'date']\n"
          ]
        },
        {
          "data": {
            "text/html": [
              "<div>\n",
              "<style scoped>\n",
              "    .dataframe tbody tr th:only-of-type {\n",
              "        vertical-align: middle;\n",
              "    }\n",
              "\n",
              "    .dataframe tbody tr th {\n",
              "        vertical-align: top;\n",
              "    }\n",
              "\n",
              "    .dataframe thead th {\n",
              "        text-align: right;\n",
              "    }\n",
              "</style>\n",
              "<table border=\"1\" class=\"dataframe\">\n",
              "  <thead>\n",
              "    <tr style=\"text-align: right;\">\n",
              "      <th></th>\n",
              "      <th>timestamp</th>\n",
              "      <th>value</th>\n",
              "      <th>classification</th>\n",
              "      <th>date</th>\n",
              "    </tr>\n",
              "  </thead>\n",
              "  <tbody>\n",
              "    <tr>\n",
              "      <th>0</th>\n",
              "      <td>1517463000</td>\n",
              "      <td>30</td>\n",
              "      <td>Fear</td>\n",
              "      <td>2018-02-01</td>\n",
              "    </tr>\n",
              "    <tr>\n",
              "      <th>1</th>\n",
              "      <td>1517549400</td>\n",
              "      <td>15</td>\n",
              "      <td>Extreme Fear</td>\n",
              "      <td>2018-02-02</td>\n",
              "    </tr>\n",
              "    <tr>\n",
              "      <th>2</th>\n",
              "      <td>1517635800</td>\n",
              "      <td>40</td>\n",
              "      <td>Fear</td>\n",
              "      <td>2018-02-03</td>\n",
              "    </tr>\n",
              "    <tr>\n",
              "      <th>3</th>\n",
              "      <td>1517722200</td>\n",
              "      <td>24</td>\n",
              "      <td>Extreme Fear</td>\n",
              "      <td>2018-02-04</td>\n",
              "    </tr>\n",
              "    <tr>\n",
              "      <th>4</th>\n",
              "      <td>1517808600</td>\n",
              "      <td>11</td>\n",
              "      <td>Extreme Fear</td>\n",
              "      <td>2018-02-05</td>\n",
              "    </tr>\n",
              "  </tbody>\n",
              "</table>\n",
              "</div>"
            ],
            "text/plain": [
              "    timestamp  value classification        date\n",
              "0  1517463000     30           Fear  2018-02-01\n",
              "1  1517549400     15   Extreme Fear  2018-02-02\n",
              "2  1517635800     40           Fear  2018-02-03\n",
              "3  1517722200     24   Extreme Fear  2018-02-04\n",
              "4  1517808600     11   Extreme Fear  2018-02-05"
            ]
          },
          "execution_count": 30,
          "metadata": {},
          "output_type": "execute_result"
        }
      ],
      "source": [
        "# simple imports\n",
        "import pandas as pd\n",
        "import matplotlib.pyplot as plt\n",
        "from scipy import stats\n",
        "\n",
        "df = pd.read_csv('fear_greed_index.csv')\n",
        "\n",
        "# quick look\n",
        "print(\"rows, cols:\", df.shape)\n",
        "print(df.columns.tolist())\n",
        "df.head()\n"
      ]
    },
    {
      "cell_type": "code",
      "execution_count": null,
      "id": "4911fa62-9ce0-42c4-addf-35a14cff2d3f",
      "metadata": {
        "id": "4911fa62-9ce0-42c4-addf-35a14cff2d3f",
        "outputId": "3f857f62-e0ab-4b12-a286-e5afc9ac4e47"
      },
      "outputs": [
        {
          "data": {
            "text/plain": [
              "Index(['timestamp', 'value', 'classification', 'date'], dtype='object')"
            ]
          },
          "execution_count": 33,
          "metadata": {},
          "output_type": "execute_result"
        }
      ],
      "source": [
        "df.columns"
      ]
    },
    {
      "cell_type": "code",
      "execution_count": null,
      "id": "435b01ad-5af6-4ce4-a0e2-c968289513cc",
      "metadata": {
        "id": "435b01ad-5af6-4ce4-a0e2-c968289513cc"
      },
      "outputs": [],
      "source": [
        "df = pd.read_csv('historical_data.csv')"
      ]
    },
    {
      "cell_type": "code",
      "execution_count": null,
      "id": "7e0aeb6a-64fc-4046-b7dd-7be9cd399dc8",
      "metadata": {
        "id": "7e0aeb6a-64fc-4046-b7dd-7be9cd399dc8",
        "outputId": "6cb1c7b2-8db4-483b-b0af-cbaa1db11e07"
      },
      "outputs": [
        {
          "data": {
            "text/plain": [
              "Index(['Account', 'Coin', 'Execution Price', 'Size Tokens', 'Size USD', 'Side',\n",
              "       'Timestamp IST', 'Start Position', 'Direction', 'Closed PnL',\n",
              "       'Transaction Hash', 'Order ID', 'Crossed', 'Fee', 'Trade ID',\n",
              "       'Timestamp'],\n",
              "      dtype='object')"
            ]
          },
          "execution_count": 36,
          "metadata": {},
          "output_type": "execute_result"
        }
      ],
      "source": [
        "df.columns"
      ]
    },
    {
      "cell_type": "code",
      "execution_count": null,
      "id": "722501c7-d5ec-42b3-942c-4655e8e30c4f",
      "metadata": {
        "id": "722501c7-d5ec-42b3-942c-4655e8e30c4f"
      },
      "outputs": [],
      "source": [
        "df.rename(columns={'Closed PnL':'closedPnL'}, inplace=True)"
      ]
    },
    {
      "cell_type": "code",
      "execution_count": null,
      "id": "9a77c936-2c80-4374-a2d2-c3b108b47842",
      "metadata": {
        "id": "9a77c936-2c80-4374-a2d2-c3b108b47842",
        "outputId": "ff0ea877-ec13-4096-81b9-968bad6d2235"
      },
      "outputs": [
        {
          "name": "stdout",
          "output_type": "stream",
          "text": [
            "closedPnL missing: 0  /  211224\n"
          ]
        }
      ],
      "source": [
        "# check missing values for main columns\n",
        "for c in ['account','classification','fg_binary','closedPnL','notional','side','leverage','is_profitable']:\n",
        "    if c in df.columns:\n",
        "        print(c, \"missing:\", df[c].isna().sum(), \" / \", len(df))\n"
      ]
    },
    {
      "cell_type": "code",
      "execution_count": null,
      "id": "0f3c2c68-9c88-4e85-abfa-22508eaee515",
      "metadata": {
        "id": "0f3c2c68-9c88-4e85-abfa-22508eaee515",
        "outputId": "584ed3b4-376b-464f-8d53-6c0a4c9e0bc3"
      },
      "outputs": [
        {
          "name": "stdout",
          "output_type": "stream",
          "text": [
            "['timestamp', 'value', 'classification', 'date']\n"
          ]
        },
        {
          "data": {
            "text/html": [
              "<div>\n",
              "<style scoped>\n",
              "    .dataframe tbody tr th:only-of-type {\n",
              "        vertical-align: middle;\n",
              "    }\n",
              "\n",
              "    .dataframe tbody tr th {\n",
              "        vertical-align: top;\n",
              "    }\n",
              "\n",
              "    .dataframe thead th {\n",
              "        text-align: right;\n",
              "    }\n",
              "</style>\n",
              "<table border=\"1\" class=\"dataframe\">\n",
              "  <thead>\n",
              "    <tr style=\"text-align: right;\">\n",
              "      <th></th>\n",
              "      <th>timestamp</th>\n",
              "      <th>value</th>\n",
              "      <th>classification</th>\n",
              "      <th>date</th>\n",
              "    </tr>\n",
              "  </thead>\n",
              "  <tbody>\n",
              "    <tr>\n",
              "      <th>0</th>\n",
              "      <td>1517463000</td>\n",
              "      <td>30</td>\n",
              "      <td>Fear</td>\n",
              "      <td>2018-02-01</td>\n",
              "    </tr>\n",
              "    <tr>\n",
              "      <th>1</th>\n",
              "      <td>1517549400</td>\n",
              "      <td>15</td>\n",
              "      <td>Extreme Fear</td>\n",
              "      <td>2018-02-02</td>\n",
              "    </tr>\n",
              "    <tr>\n",
              "      <th>2</th>\n",
              "      <td>1517635800</td>\n",
              "      <td>40</td>\n",
              "      <td>Fear</td>\n",
              "      <td>2018-02-03</td>\n",
              "    </tr>\n",
              "    <tr>\n",
              "      <th>3</th>\n",
              "      <td>1517722200</td>\n",
              "      <td>24</td>\n",
              "      <td>Extreme Fear</td>\n",
              "      <td>2018-02-04</td>\n",
              "    </tr>\n",
              "    <tr>\n",
              "      <th>4</th>\n",
              "      <td>1517808600</td>\n",
              "      <td>11</td>\n",
              "      <td>Extreme Fear</td>\n",
              "      <td>2018-02-05</td>\n",
              "    </tr>\n",
              "  </tbody>\n",
              "</table>\n",
              "</div>"
            ],
            "text/plain": [
              "    timestamp  value classification        date\n",
              "0  1517463000     30           Fear  2018-02-01\n",
              "1  1517549400     15   Extreme Fear  2018-02-02\n",
              "2  1517635800     40           Fear  2018-02-03\n",
              "3  1517722200     24   Extreme Fear  2018-02-04\n",
              "4  1517808600     11   Extreme Fear  2018-02-05"
            ]
          },
          "execution_count": 40,
          "metadata": {},
          "output_type": "execute_result"
        }
      ],
      "source": [
        "import pandas as pd\n",
        "\n",
        "sent = pd.read_csv(\"fear_greed_index.csv\")\n",
        "print(sent.columns.tolist())\n",
        "sent.head()\n"
      ]
    },
    {
      "cell_type": "code",
      "execution_count": null,
      "id": "2e4c8097-75b0-4561-b452-1621377ccc1c",
      "metadata": {
        "id": "2e4c8097-75b0-4561-b452-1621377ccc1c",
        "outputId": "d78aef13-3199-46f5-c4d1-b63b9937158b"
      },
      "outputs": [
        {
          "name": "stdout",
          "output_type": "stream",
          "text": [
            "         Date Classification\n",
            "0  2018-02-01           Fear\n",
            "1  2018-02-02   Extreme Fear\n",
            "2  2018-02-03           Fear\n",
            "3  2018-02-04   Extreme Fear\n",
            "4  2018-02-05   Extreme Fear\n"
          ]
        }
      ],
      "source": [
        "import pandas as pd\n",
        "\n",
        "# Load sentiment file\n",
        "sent = pd.read_csv(\"fear_greed_index.csv\")\n",
        "\n",
        "# Rename for consistency\n",
        "sent.rename(columns={\n",
        "    'date': 'Date',\n",
        "    'classification': 'Classification'\n",
        "}, inplace=True)\n",
        "\n",
        "# Keep only what we need\n",
        "sent = sent[['Date', 'Classification']]\n",
        "\n",
        "print(sent.head())\n"
      ]
    },
    {
      "cell_type": "code",
      "execution_count": null,
      "id": "b0a45959-f723-4e01-a18c-4093cf405b0a",
      "metadata": {
        "id": "b0a45959-f723-4e01-a18c-4093cf405b0a",
        "outputId": "deaf8eb4-ffd8-4616-88c3-0d2ee737c3cc"
      },
      "outputs": [
        {
          "name": "stdout",
          "output_type": "stream",
          "text": [
            "         Date Classification\n",
            "0  2018-02-01           Fear\n",
            "1  2018-02-02   Extreme Fear\n",
            "2  2018-02-03           Fear\n",
            "3  2018-02-04   Extreme Fear\n",
            "4  2018-02-05   Extreme Fear\n"
          ]
        }
      ],
      "source": [
        "import pandas as pd\n",
        "\n",
        "sent = pd.read_csv(\"fear_greed_index.csv\")\n",
        "\n",
        "# Standardize names\n",
        "sent.rename(columns={\n",
        "    'date': 'Date',\n",
        "    'classification': 'Classification'\n",
        "}, inplace=True)\n",
        "\n",
        "sent = sent[['Date', 'Classification']]\n",
        "sent['Date'] = pd.to_datetime(sent['Date']).dt.date\n",
        "print(sent.head())\n"
      ]
    },
    {
      "cell_type": "code",
      "execution_count": null,
      "id": "a683ebe1-b7f6-4919-8795-7c48c5da0088",
      "metadata": {
        "id": "a683ebe1-b7f6-4919-8795-7c48c5da0088",
        "outputId": "37f3fa1d-39f1-4be0-c5d4-0b38f5bcbe02"
      },
      "outputs": [
        {
          "name": "stdout",
          "output_type": "stream",
          "text": [
            "                                      Account symbol  Execution Price  \\\n",
            "0  0xae5eacaf9c6b9111fd53034a602c192a04e082ed   @107           7.9769   \n",
            "1  0xae5eacaf9c6b9111fd53034a602c192a04e082ed   @107           7.9800   \n",
            "2  0xae5eacaf9c6b9111fd53034a602c192a04e082ed   @107           7.9855   \n",
            "3  0xae5eacaf9c6b9111fd53034a602c192a04e082ed   @107           7.9874   \n",
            "4  0xae5eacaf9c6b9111fd53034a602c192a04e082ed   @107           7.9894   \n",
            "\n",
            "   Size Tokens  notional Side              time  Start Position side  \\\n",
            "0       986.87   7872.16  BUY  02-12-2024 22:50        0.000000  Buy   \n",
            "1        16.00    127.68  BUY  02-12-2024 22:50      986.524596  Buy   \n",
            "2       144.09   1150.63  BUY  02-12-2024 22:50     1002.518996  Buy   \n",
            "3       142.98   1142.04  BUY  02-12-2024 22:50     1146.558564  Buy   \n",
            "4         8.73     69.75  BUY  02-12-2024 22:50     1289.488521  Buy   \n",
            "\n",
            "   closedPnL                                   Transaction Hash     Order ID  \\\n",
            "0        0.0  0xec09451986a1874e3a980418412fcd0201f500c95bac...  52017706630   \n",
            "1        0.0  0xec09451986a1874e3a980418412fcd0201f500c95bac...  52017706630   \n",
            "2        0.0  0xec09451986a1874e3a980418412fcd0201f500c95bac...  52017706630   \n",
            "3        0.0  0xec09451986a1874e3a980418412fcd0201f500c95bac...  52017706630   \n",
            "4        0.0  0xec09451986a1874e3a980418412fcd0201f500c95bac...  52017706630   \n",
            "\n",
            "   Crossed       Fee      Trade ID     Timestamp  is_profitable  \n",
            "0     True  0.345404  8.950000e+14  1.730000e+12              0  \n",
            "1     True  0.005600  4.430000e+14  1.730000e+12              0  \n",
            "2     True  0.050431  6.600000e+14  1.730000e+12              0  \n",
            "3     True  0.050043  1.080000e+15  1.730000e+12              0  \n",
            "4     True  0.003055  1.050000e+15  1.730000e+12              0  \n"
          ]
        }
      ],
      "source": [
        "trades = pd.read_csv(\"historical_data.csv\")\n",
        "\n",
        "trades.rename(columns={\n",
        "    'Coin': 'symbol',\n",
        "    'Size USD': 'notional',\n",
        "    'Closed PnL': 'closedPnL',\n",
        "    'Timestamp IST': 'time',\n",
        "    'Direction': 'side'\n",
        "}, inplace=True)\n",
        "\n",
        "trades['is_profitable'] = (trades['closedPnL'] > 0).astype(int)\n",
        "print(trades.head())\n"
      ]
    },
    {
      "cell_type": "code",
      "execution_count": null,
      "id": "1027d94d-13c8-4441-9d0a-9f29687af8e3",
      "metadata": {
        "id": "1027d94d-13c8-4441-9d0a-9f29687af8e3",
        "outputId": "9d502cf6-9a62-423f-fc86-28b637abe96b"
      },
      "outputs": [
        {
          "name": "stdout",
          "output_type": "stream",
          "text": [
            "                 time        Date\n",
            "0 2024-12-02 22:50:00  2024-12-02\n",
            "1 2024-12-02 22:50:00  2024-12-02\n",
            "2 2024-12-02 22:50:00  2024-12-02\n",
            "3 2024-12-02 22:50:00  2024-12-02\n",
            "4 2024-12-02 22:50:00  2024-12-02\n"
          ]
        }
      ],
      "source": [
        "import pandas as pd\n",
        "\n",
        "# Convert time with dayfirst=True\n",
        "trades['time'] = pd.to_datetime(trades['time'], dayfirst=True, errors='coerce')\n",
        "\n",
        "# Extract just the date\n",
        "trades['Date'] = trades['time'].dt.date\n",
        "\n",
        "print(trades[['time','Date']].head())\n"
      ]
    },
    {
      "cell_type": "code",
      "execution_count": null,
      "id": "34e2c82d-962d-4078-be40-33936c60d23b",
      "metadata": {
        "id": "34e2c82d-962d-4078-be40-33936c60d23b",
        "outputId": "407460c7-815e-44ac-83f8-436d41cdfbfe"
      },
      "outputs": [
        {
          "name": "stdout",
          "output_type": "stream",
          "text": [
            "                                      Account symbol  closedPnL  notional  \\\n",
            "0  0xae5eacaf9c6b9111fd53034a602c192a04e082ed   @107        0.0   7872.16   \n",
            "1  0xae5eacaf9c6b9111fd53034a602c192a04e082ed   @107        0.0    127.68   \n",
            "2  0xae5eacaf9c6b9111fd53034a602c192a04e082ed   @107        0.0   1150.63   \n",
            "3  0xae5eacaf9c6b9111fd53034a602c192a04e082ed   @107        0.0   1142.04   \n",
            "4  0xae5eacaf9c6b9111fd53034a602c192a04e082ed   @107        0.0     69.75   \n",
            "\n",
            "  Classification  \n",
            "0  Extreme Greed  \n",
            "1  Extreme Greed  \n",
            "2  Extreme Greed  \n",
            "3  Extreme Greed  \n",
            "4  Extreme Greed  \n"
          ]
        }
      ],
      "source": [
        "df = trades.merge(sent, on='Date', how='left')\n",
        "print(df[['Account','symbol','closedPnL','notional','Classification']].head())\n"
      ]
    },
    {
      "cell_type": "code",
      "execution_count": null,
      "id": "936f503d-4c8f-4147-bb70-45525d23e5c3",
      "metadata": {
        "id": "936f503d-4c8f-4147-bb70-45525d23e5c3",
        "outputId": "42c5b3c1-ba88-4f54-e0d1-f3ba2326ce69"
      },
      "outputs": [
        {
          "name": "stdout",
          "output_type": "stream",
          "text": [
            "  Classification  trades  unique_traders   mean_pnl  median_pnl  win_rate  \\\n",
            "0   Extreme Fear   21400              32  34.537862         0.0  0.370607   \n",
            "1  Extreme Greed   39992              30  67.892861         0.0  0.464943   \n",
            "2           Fear   61837              32  54.290400         0.0  0.420768   \n",
            "3          Greed   50303              31  42.743559         0.0  0.384828   \n",
            "4        Neutral   37686              31  34.307718         0.0  0.396991   \n",
            "\n",
            "   mean_notional  win_rate_percent  \n",
            "0    5349.731843         37.060748  \n",
            "1    3112.251565         46.494299  \n",
            "2    7816.109931         42.076750  \n",
            "3    5736.884375         38.482794  \n",
            "4    4782.732661         39.699093  \n"
          ]
        }
      ],
      "source": [
        "grp = df.groupby('Classification').agg(\n",
        "    trades=('Account', 'count'),\n",
        "    unique_traders=('Account', pd.Series.nunique),\n",
        "    mean_pnl=('closedPnL', 'mean'),\n",
        "    median_pnl=('closedPnL', 'median'),\n",
        "    win_rate=('is_profitable', 'mean'),\n",
        "    mean_notional=('notional', 'mean')\n",
        ").reset_index()\n",
        "\n",
        "grp['win_rate_percent'] = grp['win_rate'] * 100\n",
        "print(grp)\n"
      ]
    },
    {
      "cell_type": "code",
      "execution_count": null,
      "id": "e2035d65-78cd-45bc-95a6-b0aaf72b6776",
      "metadata": {
        "id": "e2035d65-78cd-45bc-95a6-b0aaf72b6776"
      },
      "outputs": [],
      "source": [
        "grp.to_csv(\"summary_by_sentiment_simple.csv\", index=False)"
      ]
    },
    {
      "cell_type": "code",
      "execution_count": null,
      "id": "4cb50d17-f6dd-4010-ad60-110ee93784b9",
      "metadata": {
        "id": "4cb50d17-f6dd-4010-ad60-110ee93784b9",
        "outputId": "01876da2-ca86-47d8-ef8e-8eeb8da0d5d8"
      },
      "outputs": [
        {
          "data": {
            "image/png": "[encoded data removed]",
            "text/plain": [
              "<Figure size 640x480 with 1 Axes>"
            ]
          },
          "metadata": {},
          "output_type": "display_data"
        }
      ],
      "source": [
        "# 1) bar: mean PnL by sentiment\n",
        "plt.figure()\n",
        "plt.bar(grp['Classification'], grp['mean_pnl'])\n",
        "plt.title(\"Mean Closed PnL by Sentiment\")\n",
        "plt.ylabel(\"Mean Closed PnL\")\n",
        "plt.xlabel(\"Sentiment\")\n",
        "plt.tight_layout()\n",
        "plt.savefig(\"mean_pnl_by_sentiment.png\")\n",
        "plt.show()\n"
      ]
    },
    {
      "cell_type": "code",
      "execution_count": null,
      "id": "12efa63e-b9cd-4ab9-b37a-f56726630436",
      "metadata": {
        "id": "12efa63e-b9cd-4ab9-b37a-f56726630436"
      },
      "outputs": [],
      "source": [
        "# Map Fear = 0, Greed = 1\n",
        "df['fg_binary'] = df['Classification'].map({'Fear': 0, 'Greed': 1})\n"
      ]
    },
    {
      "cell_type": "code",
      "execution_count": null,
      "id": "b7690337-2b3a-4d44-8bc9-c6b87b38fd0e",
      "metadata": {
        "id": "b7690337-2b3a-4d44-8bc9-c6b87b38fd0e",
        "outputId": "67e37834-7a8b-4369-d861-665e9735ffe8"
      },
      "outputs": [
        {
          "name": "stderr",
          "output_type": "stream",
          "text": [
            "C:\\Users\\HETWANI\\AppData\\Local\\Temp\\ipykernel_15592\\1981375321.py:6: MatplotlibDeprecationWarning: The 'labels' parameter of boxplot() has been renamed 'tick_labels' since Matplotlib 3.9; support for the old name will be dropped in 3.11.\n",
            "  plt.boxplot([fear, greed], labels=['Fear', 'Greed'])\n"
          ]
        },
        {
          "data": {
            "image/png": "[encoded data removed]",
            "text/plain": [
              "<Figure size 640x480 with 1 Axes>"
            ]
          },
          "metadata": {},
          "output_type": "display_data"
        }
      ],
      "source": [
        "fear = df.loc[df['fg_binary'] == 0, 'closedPnL'].dropna()\n",
        "greed = df.loc[df['fg_binary'] == 1, 'closedPnL'].dropna()\n",
        "\n",
        "import matplotlib.pyplot as plt\n",
        "\n",
        "plt.boxplot([fear, greed], labels=['Fear', 'Greed'])\n",
        "plt.title(\"PnL Distribution: Fear vs Greed Days\")\n",
        "plt.ylabel(\"Closed PnL\")\n",
        "plt.show()\n"
      ]
    },
    {
      "cell_type": "code",
      "execution_count": null,
      "id": "10ce5c25-7b7f-43a1-a725-245ee0952dda",
      "metadata": {
        "id": "10ce5c25-7b7f-43a1-a725-245ee0952dda",
        "outputId": "71817fb2-e5c9-424d-ed5a-f5d87a7eb03a"
      },
      "outputs": [
        {
          "data": {
            "image/png": "[encoded data removed]",
            "text/plain": [
              "<Figure size 640x480 with 1 Axes>"
            ]
          },
          "metadata": {},
          "output_type": "display_data"
        }
      ],
      "source": [
        "# 3) hit rate by sentiment\n",
        "rates = grp.set_index('Classification')['win_rate_percent']\n",
        "plt.figure()\n",
        "plt.bar(rates.index, rates.values)\n",
        "plt.title(\"Win rate by sentiment (%)\")\n",
        "plt.ylabel(\"Win rate (%)\")\n",
        "plt.tight_layout()\n",
        "plt.savefig(\"winrate_by_sentiment.png\")\n",
        "plt.show()\n"
      ]
    },
    {
      "cell_type": "code",
      "execution_count": null,
      "id": "3555c1f1-4da1-4ac0-8c8f-612bf58c3046",
      "metadata": {
        "id": "3555c1f1-4da1-4ac0-8c8f-612bf58c3046",
        "outputId": "33d5f555-c5d5-4434-9b26-8b55d0aa7002"
      },
      "outputs": [
        {
          "name": "stdout",
          "output_type": "stream",
          "text": [
            "   Classification                       side  trades      mean_pnl  win_rate\n",
            "0    Extreme Fear                        Buy     807      0.000000  0.000000\n",
            "1    Extreme Fear                 Close Long    6241     81.197371  0.846499\n",
            "2    Extreme Fear                Close Short    3117    123.400238  0.705807\n",
            "3    Extreme Fear               Long > Short       5      1.331956  1.000000\n",
            "4    Extreme Fear                  Open Long    7005      0.000000  0.000000\n",
            "5    Extreme Fear                 Open Short    3174      0.000000  0.000000\n",
            "6    Extreme Fear                       Sell    1042   -135.021730  0.420345\n",
            "7    Extreme Fear               Short > Long       6  -1932.516940  0.833333\n",
            "8    Extreme Fear       Spot Dust Conversion       3      0.000000  0.000000\n",
            "9   Extreme Greed                        Buy    5132      0.000000  0.000000\n",
            "10  Extreme Greed                 Close Long    7186     61.830783  0.887698\n",
            "11  Extreme Greed                Close Short    6497     28.970490  0.858550\n",
            "12  Extreme Greed               Long > Short       7    120.600968  0.857143\n",
            "13  Extreme Greed                  Open Long    6300      0.000000  0.000000\n",
            "14  Extreme Greed                 Open Short    7663      0.000000  0.000000\n",
            "15  Extreme Greed                       Sell    7164    290.572354  0.924344\n",
            "16  Extreme Greed               Short > Long      11     11.771238  0.818182\n",
            "17  Extreme Greed       Spot Dust Conversion      32      0.000000  0.000000\n",
            "18           Fear                        Buy    3207      0.000000  0.000000\n",
            "19           Fear                 Close Long   17260     83.000111  0.898899\n",
            "20           Fear                Close Short    9221    207.676658  0.861620\n",
            "21           Fear               Long > Short      14      4.795642  0.642857\n",
            "22           Fear                  Open Long   17824      0.000000  0.000000\n",
            "23           Fear                 Open Short   10887      0.000000  0.000000\n",
            "24           Fear                       Sell    3364     -3.141217  0.753270\n",
            "25           Fear               Short > Long      18   1115.943156  0.888889\n",
            "26           Fear       Spot Dust Conversion      42      0.000000  0.000000\n",
            "27          Greed          Auto-Deleveraging       8   7184.807003  1.000000\n",
            "28          Greed                        Buy    4685      0.000000  0.000000\n",
            "29          Greed                 Close Long    7998     88.958554  0.862966\n",
            "30          Greed                Close Short   11322     55.195496  0.688571\n",
            "31          Greed  Liquidated Isolated Short       1 -12752.913040  0.000000\n",
            "32          Greed               Long > Short      16     22.711911  0.625000\n",
            "33          Greed                  Open Long    8544      0.000000  0.000000\n",
            "34          Greed                 Open Short   11664      0.000000  0.000000\n",
            "35          Greed                       Sell    5986    128.022106  0.771968\n",
            "36          Greed                 Settlement       1    -29.215368  0.000000\n",
            "37          Greed               Short > Long      23    100.665716  0.913043\n",
            "38          Greed       Spot Dust Conversion      55      0.000000  0.000000\n",
            "39        Neutral                        Buy    2885      0.000000  0.000000\n",
            "40        Neutral                 Close Long    9993     52.815787  0.861303\n",
            "41        Neutral                Close Short    5850     94.796313  0.776581\n",
            "42        Neutral               Long > Short      15     47.332193  0.733333\n",
            "43        Neutral                  Open Long   10222      0.000000  0.000000\n",
            "44        Neutral                 Open Short    6353      0.000000  0.000000\n",
            "45        Neutral                       Sell    2346     89.517239  0.763001\n",
            "46        Neutral               Short > Long      12    -11.945100  0.833333\n",
            "47        Neutral       Spot Dust Conversion      10      0.000000  0.000000\n"
          ]
        },
        {
          "data": {
            "image/png": "[encoded data removed]",
            "text/plain": [
              "<Figure size 640x480 with 1 Axes>"
            ]
          },
          "metadata": {},
          "output_type": "display_data"
        }
      ],
      "source": [
        "by_side = df.groupby(['Classification','side']).agg(\n",
        "    trades=('Account','count'),\n",
        "    mean_pnl=('closedPnL','mean'),\n",
        "    win_rate=('is_profitable','mean')\n",
        ").reset_index()\n",
        "\n",
        "print(by_side)\n",
        "# You can pivot for nicer plot\n",
        "pivot = by_side.pivot(index='side', columns='Classification', values='win_rate').fillna(0)\n",
        "pivot.plot(kind='bar', rot=0)\n",
        "plt.title(\"Win rate by side and sentiment\")\n",
        "plt.ylabel(\"Win rate (fraction)\")\n",
        "plt.tight_layout()\n",
        "plt.savefig(\"winrate_by_side_and_sentiment.png\")\n",
        "plt.show()\n"
      ]
    },
    {
      "cell_type": "code",
      "execution_count": null,
      "id": "ee43a25f-b852-4ba7-805c-5b6ede3ab4a7",
      "metadata": {
        "id": "ee43a25f-b852-4ba7-805c-5b6ede3ab4a7",
        "outputId": "22e310f9-5d9a-464d-9f78-b24984b6eab5"
      },
      "outputs": [
        {
          "name": "stdout",
          "output_type": "stream",
          "text": [
            "n fear: 61837  n greed: 50303\n",
            "t-test: t=1.851  p=0.0642\n",
            "Mann-Whitney U: u=1643204000.500  p=0.0000\n"
          ]
        }
      ],
      "source": [
        "# make sure there is enough data\n",
        "print(\"n fear:\", len(fear), \" n greed:\", len(greed))\n",
        "\n",
        "if len(fear) > 2 and len(greed) > 2:\n",
        "    t_stat, p_val = stats.ttest_ind(fear, greed, equal_var=False, nan_policy='omit')\n",
        "    u_stat, p_mw = stats.mannwhitneyu(fear, greed, alternative='two-sided')\n",
        "    print(\"t-test: t=%.3f  p=%.4f\" % (t_stat, p_val))\n",
        "    print(\"Mann-Whitney U: u=%.3f  p=%.4f\" % (u_stat, p_mw))\n",
        "else:\n",
        "    print(\"Not enough PnL rows in one of the groups for tests.\")\n"
      ]
    },
    {
      "cell_type": "code",
      "execution_count": null,
      "id": "17fc89dd-ffc0-49d4-94c1-ffcbb379cc2f",
      "metadata": {
        "id": "17fc89dd-ffc0-49d4-94c1-ffcbb379cc2f",
        "outputId": "aa545911-3d86-470a-bea7-b9ee52664721"
      },
      "outputs": [
        {
          "name": "stdout",
          "output_type": "stream",
          "text": [
            "Top traders (Greed):\n",
            "                                        Account  trades      total_pnl  \\\n",
            "121  0xb1231a4a2dd02f2276fa3c5e2a2f3436e6bfed23    5889  534058.236330   \n",
            "109  0x72743ae2822edd658c0c50608fd7c5c501b2afbd     593  453595.318176   \n",
            "94   0x083384f897ee0f19899168e3b1bec365f52a9012     574  276719.270187   \n",
            "124  0xbee1707d6b44d4d52bfe19e41f8a828645437aab    7338  243399.513140   \n",
            "103  0x430f09841d65beb3f27765503d0f850b8bce7713     772  227680.491734   \n",
            "107  0x513b8629fe877bb581bf244e326a047b249c4ff1    3169  163047.664946   \n",
            "105  0x4acb90e786d897ecffb614dc822eb231b4ffb9f4    1135   96392.783186   \n",
            "111  0x75f7eeb85dc639d5e99c78f95393aa9a5f1170d4    2618   95937.394195   \n",
            "106  0x4f93fead39b70a1824f981a54d4e55b278e9f760    2334   79023.471493   \n",
            "116  0x92f17e8d81a944691c10e753af1b1baae1a2cd0d    1199   60254.251561   \n",
            "\n",
            "     win_rate  \n",
            "121  0.273221  \n",
            "109  0.317032  \n",
            "94   0.160279  \n",
            "124  0.464704  \n",
            "103  0.637306  \n",
            "107  0.376459  \n",
            "105  0.595595  \n",
            "111  0.807869  \n",
            "106  0.343616  \n",
            "116  0.337781  \n",
            "Worst traders (Fear):\n",
            "                                       Account  trades     total_pnl  win_rate\n",
            "77  0x72743ae2822edd658c0c50608fd7c5c501b2afbd     311 -58219.752261  0.160772\n",
            "74  0x4f93fead39b70a1824f981a54d4e55b278e9f760    1156 -19126.158064  0.355536\n",
            "86  0xa520ded057a32086c40e7dd6ed4eb8efb82c00e0      44 -16719.913714  0.068182\n",
            "63  0x23e7a7f8d14b550961925fbfdaa92f5d195ba5bd    2622  -1658.736801  0.478261\n",
            "84  0x92f17e8d81a944691c10e753af1b1baae1a2cd0d     191   -621.545060  0.000000\n",
            "67  0x3998f134d6aaa2b6a5f723806d00fd2bbbbce891     256   -467.058896  0.679688\n",
            "82  0x8381e6d82f1affd39a336e143e081ef7620a3b7f      55    258.415330  0.345455\n",
            "76  0x6d6a4b953f202f8df5bed40692e7fd865318264a     359   2040.359057  0.220056\n",
            "66  0x2c229d22b100a7beb69122eed721cee9b24011dd     381   3979.190772  0.433071\n",
            "80  0x7f4f299f74eec87806a830e3caa9afa5f2b9db8f     544   4036.552319  0.468750\n"
          ]
        }
      ],
      "source": [
        "per_trader = df.groupby(['Classification','Account']).agg(\n",
        "    trades=('Account','count'),\n",
        "    total_pnl=('closedPnL','sum'),\n",
        "    avg_pnl=('closedPnL','mean'),\n",
        "    win_rate=('is_profitable','mean')\n",
        ").reset_index()\n",
        "\n",
        "# top 10 winners in Greed\n",
        "top_greed = per_trader[(per_trader['Classification']=='Greed')].sort_values('total_pnl', ascending=False).head(10)\n",
        "print(\"Top traders (Greed):\")\n",
        "print(top_greed[['Account','trades','total_pnl','win_rate']])\n",
        "\n",
        "# top 10 losers in Fear\n",
        "worst_fear = per_trader[(per_trader['Classification']=='Fear')].sort_values('total_pnl').head(10)\n",
        "print(\"Worst traders (Fear):\")\n",
        "print(worst_fear[['Account','trades','total_pnl','win_rate']])\n",
        "\n",
        "per_trader.to_csv(\"per_trader_simple.csv\", index=False)\n"
      ]
    },
    {
      "cell_type": "code",
      "execution_count": null,
      "id": "4525ea18-5cc4-430d-b0f6-24ac8def6e18",
      "metadata": {
        "id": "4525ea18-5cc4-430d-b0f6-24ac8def6e18",
        "outputId": "2303cc7b-f4d3-46f4-e181-d9d2510101a0"
      },
      "outputs": [
        {
          "name": "stdout",
          "output_type": "stream",
          "text": [
            "Trades: Fear=61837, Greed=50303. Mean closed PnL: Fear=54.29, Greed=42.74. Win rate: Fear=42.1%, Greed=38.5%.\n"
          ]
        }
      ],
      "source": [
        "n_fear = df[df['fg_binary']==0].shape[0]\n",
        "n_greed = df[df['fg_binary']==1].shape[0]\n",
        "mean_fear = df.loc[df['fg_binary']==0,'closedPnL'].mean()\n",
        "mean_greed = df.loc[df['fg_binary']==1,'closedPnL'].mean()\n",
        "win_fear = df.loc[df['fg_binary']==0,'is_profitable'].mean()*100\n",
        "win_greed = df.loc[df['fg_binary']==1,'is_profitable'].mean()*100\n",
        "\n",
        "summary = (f\"Trades: Fear={n_fear}, Greed={n_greed}. \"\n",
        "           f\"Mean closed PnL: Fear={mean_fear:.2f}, Greed={mean_greed:.2f}. \"\n",
        "           f\"Win rate: Fear={win_fear:.1f}%, Greed={win_greed:.1f}%.\")\n",
        "\n",
        "print(summary)\n"
      ]
    },
    {
      "cell_type": "code",
      "execution_count": null,
      "id": "327a187c-1255-4a37-a039-15b783d64f18",
      "metadata": {
        "id": "327a187c-1255-4a37-a039-15b783d64f18"
      },
      "outputs": [],
      "source": []
    }
  ],
  "metadata": {
    "kernelspec": {
      "display_name": "Python 3 (ipykernel)",
      "language": "python",
      "name": "python3"
    },
    "language_info": {
      "codemirror_mode": {
        "name": "ipython",
        "version": 3
      },
      "file_extension": ".py",
      "mimetype": "text/x-python",
      "name": "python",
      "nbconvert_exporter": "python",
      "pygments_lexer": "ipython3",
      "version": "3.12.7"
    },
    "colab": {
      "provenance": [],
      "include_colab_link": true
    }
  },
  "nbformat": 4,
  "nbformat_minor": 5
}